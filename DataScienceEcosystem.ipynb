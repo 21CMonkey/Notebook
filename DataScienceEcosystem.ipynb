{
  "metadata": {
    "language_info": {
      "codemirror_mode": {
        "name": "python",
        "version": 3
      },
      "file_extension": ".py",
      "mimetype": "text/x-python",
      "name": "python",
      "nbconvert_exporter": "python",
      "pygments_lexer": "ipython3",
      "version": "3.8"
    },
    "kernelspec": {
      "name": "python",
      "display_name": "Python (Pyodide)",
      "language": "python"
    }
  },
  "nbformat_minor": 4,
  "nbformat": 4,
  "cells": [
    {
      "cell_type": "markdown",
      "source": "# Data science Tools and Ecosystem\n",
      "metadata": {}
    },
    {
      "cell_type": "markdown",
      "source": "In this notebook, Data Science Tools and Ecosystem will be adressed ",
      "metadata": {}
    },
    {
      "cell_type": "markdown",
      "source": "**Objetives**\n* List popular lenguages in Data Science\n* List frequently used libraries in Data Science\n* Examples of arithmetic expressions in Python",
      "metadata": {}
    },
    {
      "cell_type": "markdown",
      "source": " **Some of the most popular languages Data scientist use are listed bellow:**\n\n1. Python\n2. R\n3. Java\n4. Scala\n5. C++",
      "metadata": {}
    },
    {
      "cell_type": "markdown",
      "source": "**There are frequently used libraries used in data science, some of them are:**\n1. Pandas\n2. NumPy\n3. Scikit-learn\n4. Plotly\n",
      "metadata": {}
    },
    {
      "cell_type": "markdown",
      "source": "\n|***Data Science Tools***|\n-----------\n|JupyterLab|\n|RStudio|\n|Visual Studio Code|",
      "metadata": {}
    },
    {
      "cell_type": "markdown",
      "source": "### Examples of evaluating arithmetic expressions in Python\n\nThis a simple arithmetic expression to mutiply then add integers:",
      "metadata": {}
    },
    {
      "cell_type": "code",
      "source": "(3*4)+5",
      "metadata": {
        "tags": [],
        "trusted": true
      },
      "execution_count": 5,
      "outputs": [
        {
          "execution_count": 5,
          "output_type": "execute_result",
          "data": {
            "text/plain": "17"
          },
          "metadata": {}
        }
      ]
    },
    {
      "cell_type": "markdown",
      "source": "This will convert 200 minutes to hours by diving by 60:",
      "metadata": {}
    },
    {
      "cell_type": "code",
      "source": "(200/60)",
      "metadata": {
        "trusted": true
      },
      "execution_count": 6,
      "outputs": [
        {
          "execution_count": 6,
          "output_type": "execute_result",
          "data": {
            "text/plain": "3.3333333333333335"
          },
          "metadata": {}
        }
      ]
    },
    {
      "cell_type": "markdown",
      "source": "## Autor\nIori Fernando Cocom Peniche",
      "metadata": {}
    },
    {
      "cell_type": "code",
      "source": "",
      "metadata": {},
      "execution_count": null,
      "outputs": []
    }
  ]
}